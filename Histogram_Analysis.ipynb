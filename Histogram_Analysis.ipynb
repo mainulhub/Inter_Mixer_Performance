{
  "nbformat": 4,
  "nbformat_minor": 0,
  "metadata": {
    "colab": {
      "provenance": []
    },
    "kernelspec": {
      "name": "python3",
      "display_name": "Python 3"
    },
    "language_info": {
      "name": "python"
    }
  },
  "cells": [
    {
      "cell_type": "markdown",
      "source": [
        "#**Histogram Analysis**#"
      ],
      "metadata": {
        "id": "dVULVXVD1hW-"
      }
    },
    {
      "cell_type": "markdown",
      "source": [
        "##In this section, histogram analysis is employed to assess the mixing performance of the two primary colors—red and blue—within the image. This approach provides a statistical overview of how color intensities are distributed and how effectively the two colors are blended.\n",
        "\n",
        "##To comprehensively evaluate the quality of the mixing, several quantitative metrics have been applied to compare the histograms of the red and blue channels. These metrics include:\n",
        "\n",
        "##**Entropy Analysis:** Measures the randomness or complexity of pixel intensity distribution. Higher entropy typically indicates a more complex and possibly more uniform color mix.\n",
        "\n",
        "##**Histogram Intersection:** Calculates the overlap between the histograms of the red and blue channels, with higher values indicating greater similarity and better blending.\n",
        "\n",
        "##**Chi-square Distance:** Assesses the divergence between the two histograms. A lower value suggests that the red and blue channels have similar distributions, implying effective mixing.\n",
        "\n",
        "##**Bhattacharyya Distance:** Quantifies the amount of overlap between the histograms, offering a probabilistic measure of similarity. A smaller distance signifies closer distribution and better color integration.\n",
        "\n",
        "##**Correlation:** Measures the linear relationship between the two histograms. A high correlation value indicates that variations in red and blue intensities occur in tandem, which reflects a more synchronized mix.\n",
        "\n",
        "##**Kullback-Leibler (KL) Divergence:** Evaluates how one histogram diverges from another. A lower KL divergence indicates that the red and blue histograms are more similar, supporting a conclusion of more balanced mixing.\n",
        "\n",
        "##Together, these histogram-based metrics provide a robust framework for analyzing the spatial and statistical quality of color blending, helping to identify whether the red and blue components are evenly and effectively mixed across the image."
      ],
      "metadata": {
        "id": "I1gF6S_L22fU"
      }
    },
    {
      "cell_type": "markdown",
      "source": [
        "##Including Necessary Library"
      ],
      "metadata": {
        "id": "77WYAC2k5znY"
      }
    },
    {
      "cell_type": "code",
      "source": [
        "import cv2\n",
        "import matplotlib.pyplot as plt\n",
        "from scipy.stats import entropy\n",
        "import cv2\n",
        "import numpy as np\n",
        "import matplotlib.pyplot as plt"
      ],
      "metadata": {
        "id": "3XnLZJEOKKDE"
      },
      "execution_count": null,
      "outputs": []
    },
    {
      "cell_type": "code",
      "source": [
        "image_path_data = './sample_data/5050_210_SP_003_O.jpg'"
      ],
      "metadata": {
        "id": "a5Bn4W9EKchU"
      },
      "execution_count": null,
      "outputs": []
    },
    {
      "cell_type": "markdown",
      "source": [
        "##Histogram Ploting for two colors (Red and Blue)\n",
        "### Frequency versus Intensity"
      ],
      "metadata": {
        "id": "PX4cVHIh59bE"
      }
    },
    {
      "cell_type": "code",
      "execution_count": null,
      "metadata": {
        "colab": {
          "base_uri": "https://localhost:8080/",
          "height": 465
        },
        "id": "gWM_Azz0FMdQ",
        "outputId": "70b515b3-1872-444f-99ed-d0e73db12b6f"
      },
      "outputs": [
        {
          "output_type": "display_data",
          "data": {
            "text/plain": [
              "<Figure size 640x480 with 1 Axes>"
            ],
            "image/png": "[encoded data removed]"
          },
          "metadata": {}
        }
      ],
      "source": [
        "####  Histogram Analysis  #######################\n",
        "#################################################\n",
        "#       HISTOGRAM ANALYSIS                      #\n",
        "#################################################\n",
        "#################################################\n",
        "\n",
        "\n",
        "def analyze_histograms(image_path):\n",
        "    image = cv2.imread(image_path)\n",
        "    image = cv2.cvtColor(image, cv2.COLOR_BGR2RGB)\n",
        "\n",
        "    # Plot histograms for red and blue channels\n",
        "    plt.hist(image[:, :, 0].ravel(), bins=256, color='red', alpha=0.5, label='Red')\n",
        "    plt.hist(image[:, :, 2].ravel(), bins=256, color='blue', alpha=0.5, label='Blue')\n",
        "    plt.xlabel('Pixel Intensity')\n",
        "    plt.ylabel('Frequency')\n",
        "    plt.xlim([1, 100])\n",
        "    plt.ylim([0, 1000000])\n",
        "    plt.legend()\n",
        "    plt.show()\n",
        "\n",
        "# Example usage\n",
        "analyze_histograms(image_path_data)"
      ]
    },
    {
      "cell_type": "markdown",
      "source": [
        "##Histogram Ploting for two colors (Red and Blue)\n",
        "### Density versus Intensity"
      ],
      "metadata": {
        "id": "v4pnZcsh7Pfp"
      }
    },
    {
      "cell_type": "code",
      "source": [
        "import cv2\n",
        "import numpy as np\n",
        "import matplotlib.pyplot as plt\n",
        "from scipy.stats import gaussian_kde\n",
        "\n",
        "def analyze_histograms(image_path):\n",
        "    # Load the image and convert to RGB\n",
        "    image = cv2.imread(image_path)\n",
        "    image = cv2.cvtColor(image, cv2.COLOR_BGR2RGB)\n",
        "\n",
        "    # Extract red and blue channels\n",
        "    red_channel = image[:, :, 0].ravel()\n",
        "    blue_channel = image[:, :, 2].ravel()\n",
        "\n",
        "    # Create a figure with a larger size\n",
        "    plt.figure(figsize=(10, 6))\n",
        "\n",
        "    # Plot histograms for red and blue channels\n",
        "    plt.hist(red_channel, bins=256, color='red', alpha=0.5, label='Red Channel', density=True)\n",
        "    plt.hist(blue_channel, bins=256, color='blue', alpha=0.5, label='Blue Channel', density=True)\n",
        "\n",
        "    # Add KDE for smoother visualization\n",
        "    #kde_red = gaussian_kde(red_channel)\n",
        "    #kde_blue = gaussian_kde(blue_channel)\n",
        "    #x_values = np.linspace(0, 255, 1000)\n",
        "    #plt.plot(x_values, kde_red(x_values), color='darkred', label='Red KDE')\n",
        "    #plt.plot(x_values, kde_blue(x_values), color='darkblue', label='Blue KDE')\n",
        "\n",
        "    # Add title and labels\n",
        "    plt.title('Histogram of Red and Blue Channels', fontsize=16)\n",
        "    plt.xlabel('Pixel Intensity', fontsize=14)\n",
        "    plt.ylabel('Density', fontsize=14)\n",
        "\n",
        "    # Add grid lines\n",
        "    plt.grid(True, linestyle='--', alpha=0.6)\n",
        "\n",
        "    # Set axis limits\n",
        "    plt.xlim([0, 155])\n",
        "    plt.ylim([0, 0.025])  # Adjust based on your data\n",
        "\n",
        "    # Add legend\n",
        "    plt.legend(fontsize=12)\n",
        "\n",
        "    # Increase tick label size\n",
        "    plt.xticks(fontsize=12)\n",
        "    plt.yticks(fontsize=12)\n",
        "\n",
        "    # Show the plot\n",
        "    plt.tight_layout()\n",
        "    plt.savefig('./sample_data/histogram_plot_001.png', dpi=300)\n",
        "    plt.show()\n",
        "\n",
        "# Example usage\n",
        "analyze_histograms(image_path_data)"
      ],
      "metadata": {
        "colab": {
          "base_uri": "https://localhost:8080/",
          "height": 607
        },
        "id": "88Ojgrh5XZOM",
        "outputId": "724b8772-3141-4ef6-bd55-95a9ba711a2f"
      },
      "execution_count": null,
      "outputs": [
        {
          "output_type": "display_data",
          "data": {
            "text/plain": [
              "<Figure size 1000x600 with 1 Axes>"
            ],
            "image/png": "[encoded data removed]"
          },
          "metadata": {}
        }
      ]
    },
    {
      "cell_type": "markdown",
      "source": [
        "##Entropy Analysis"
      ],
      "metadata": {
        "id": "Dm3Zzg0E7aAt"
      }
    },
    {
      "cell_type": "code",
      "source": [
        "############ Entropy Analysis ##########################\n",
        "########################################################\n",
        "########### ENTROPY ANALYSIS ###########################\n",
        "# Entropy is a useful metric for evaluating the uniformity of color mixing.\n",
        "# Higher entropy indicates better mixing, while lower entropy indicates poorer mixing.\n",
        "########################################################\n",
        "\n",
        "def calculate_entropy(image_path):\n",
        "    image = cv2.imread(image_path)\n",
        "    image = cv2.cvtColor(image, cv2.COLOR_BGR2RGB)\n",
        "\n",
        "    # Calculate entropy for red and blue channels\n",
        "    red_entropy = entropy(np.histogram(image[:, :, 0], bins=256)[0])\n",
        "    blue_entropy = entropy(np.histogram(image[:, :, 2], bins=256)[0])\n",
        "\n",
        "    return (red_entropy + blue_entropy) / 2\n",
        "\n",
        "# Example usage\n",
        "entropy_value = calculate_entropy(image_path_data)\n",
        "print(f\"Entropy: {entropy_value:.2f}\")"
      ],
      "metadata": {
        "colab": {
          "base_uri": "https://localhost:8080/"
        },
        "id": "W5sixluuFXAU",
        "outputId": "0e04955e-4551-49f1-bce1-cc9e88b68095"
      },
      "execution_count": null,
      "outputs": [
        {
          "output_type": "stream",
          "name": "stdout",
          "text": [
            "Entropy: 2.70\n"
          ]
        }
      ]
    },
    {
      "cell_type": "markdown",
      "source": [
        "##Histogram Intersection"
      ],
      "metadata": {
        "id": "pxtVJq5O7gxe"
      }
    },
    {
      "cell_type": "code",
      "source": [
        "########## Histogram Intersection ###################\n",
        "######################################################\n",
        "################ HISTOGRAM INTERSECTION ##############\n",
        "# Higher intersection indicates better mixing, while lower intersection indicates poorer mixing.\n",
        "######################################################\n",
        "\n",
        "\n",
        "def calculate_histogram_intersection(image_path):\n",
        "    # Load the image\n",
        "    image = cv2.imread(image_path)\n",
        "    image = cv2.cvtColor(image, cv2.COLOR_BGR2RGB)\n",
        "\n",
        "    # Calculate histograms for red and blue channels\n",
        "    red_hist = cv2.calcHist([image], [0], None, [256], [0, 256])\n",
        "    blue_hist = cv2.calcHist([image], [2], None, [256], [0, 256])\n",
        "\n",
        "    # Normalize the histograms\n",
        "    red_hist = cv2.normalize(red_hist, red_hist).flatten()\n",
        "    blue_hist = cv2.normalize(blue_hist, blue_hist).flatten()\n",
        "\n",
        "    # Calculate histogram intersection\n",
        "    intersection = np.minimum(red_hist, blue_hist).sum()\n",
        "    return intersection\n",
        "\n",
        "# Example usage\n",
        "image_path = image_path_data\n",
        "intersection_index = calculate_histogram_intersection(image_path)\n",
        "print(f\"Histogram Intersection Index: {intersection_index:.2f}\")"
      ],
      "metadata": {
        "colab": {
          "base_uri": "https://localhost:8080/"
        },
        "id": "sJ_L4WHWFs52",
        "outputId": "f414b416-427b-41bb-d10a-f464f26ea0fd"
      },
      "execution_count": null,
      "outputs": [
        {
          "output_type": "stream",
          "name": "stdout",
          "text": [
            "Histogram Intersection Index: 0.78\n"
          ]
        }
      ]
    },
    {
      "cell_type": "markdown",
      "source": [
        "##Chi-Square Distance"
      ],
      "metadata": {
        "id": "lg67CoyN7sVE"
      }
    },
    {
      "cell_type": "code",
      "source": [
        "########## Chi-Square Distance #######################\n",
        "#Lower Chi-Square Distance indicates better mixing, while higher distance indicates poorer mixing.\n",
        "################ CHI-SQUARE DISTANCE  ################\n",
        "######################################################\n",
        "\n",
        "image_path = image_path_data\n",
        "\n",
        "image = cv2.imread(image_path)\n",
        "image = cv2.cvtColor(image, cv2.COLOR_BGR2RGB)\n",
        "\n",
        "# Calculate histograms for red and blue channels\n",
        "red_hist = cv2.calcHist([image], [0], None, [256], [0, 256])\n",
        "blue_hist = cv2.calcHist([image], [2], None, [256], [0, 256])\n",
        "\n",
        "# Normalize the histograms\n",
        "red_hist = cv2.normalize(red_hist, red_hist).flatten()\n",
        "blue_hist = cv2.normalize(blue_hist, blue_hist).flatten()\n",
        "\n",
        "\n",
        "chi_square = cv2.compareHist(red_hist, blue_hist, cv2.HISTCMP_CHISQR)\n",
        "print(f\"Chi-Square Distance: {chi_square:.2f}\")"
      ],
      "metadata": {
        "colab": {
          "base_uri": "https://localhost:8080/"
        },
        "id": "Dr8pcOYMFt6k",
        "outputId": "c9b7c086-bb69-4292-8e6a-12562f991d94"
      },
      "execution_count": null,
      "outputs": [
        {
          "output_type": "stream",
          "name": "stdout",
          "text": [
            "Chi-Square Distance: 199.21\n"
          ]
        }
      ]
    },
    {
      "cell_type": "markdown",
      "source": [
        "##Bhattacharyya Distance"
      ],
      "metadata": {
        "id": "IUJZ3voN7w-2"
      }
    },
    {
      "cell_type": "code",
      "source": [
        "############## Bhattacharyya Distance #####################\n",
        "################## BATTACHARYYA DISTANCE ##################\n",
        "# Lower Bhattacharyya Distance indicates better mixing, while higher distance indicates poorer mixing.\n",
        "###########################################################\n",
        "\n",
        "bhattacharyya = cv2.compareHist(red_hist, blue_hist, cv2.HISTCMP_BHATTACHARYYA)\n",
        "print(f\"Bhattacharyya Distance: {bhattacharyya:.2f}\")"
      ],
      "metadata": {
        "colab": {
          "base_uri": "https://localhost:8080/"
        },
        "id": "eQbkwJz4F0zo",
        "outputId": "15f7e6a7-737a-466f-b431-7fdfe76874e5"
      },
      "execution_count": null,
      "outputs": [
        {
          "output_type": "stream",
          "name": "stdout",
          "text": [
            "Bhattacharyya Distance: 0.82\n"
          ]
        }
      ]
    },
    {
      "cell_type": "markdown",
      "source": [
        "##Correlation"
      ],
      "metadata": {
        "id": "AiKGlUWI73Tz"
      }
    },
    {
      "cell_type": "code",
      "source": [
        "############# Correlation ################################\n",
        "# If the correlation is close to 1, it means the red and blue histograms are very similar, indicating good mixing.\n",
        "#################### CORRELATION #########################\n",
        "##########################################################\n",
        "\n",
        "correlation = cv2.compareHist(red_hist, blue_hist, cv2.HISTCMP_CORREL)\n",
        "print(f\"Correlation: {correlation:.2f}\")"
      ],
      "metadata": {
        "colab": {
          "base_uri": "https://localhost:8080/"
        },
        "id": "TG65w85cF9--",
        "outputId": "e180ac7f-0b7c-4159-9892-a6f065fb2361"
      },
      "execution_count": null,
      "outputs": [
        {
          "output_type": "stream",
          "name": "stdout",
          "text": [
            "Correlation: 0.73\n"
          ]
        }
      ]
    },
    {
      "cell_type": "markdown",
      "source": [
        "##KL Divergence"
      ],
      "metadata": {
        "id": "Pogf_hG88DQM"
      }
    },
    {
      "cell_type": "code",
      "source": [
        "############## divergence ####################\n",
        "# Lower divergence indicates better mixing, while higher divergence indicates poorer mixing.\n",
        "###########################################\n",
        "\n",
        "from scipy.stats import entropy\n",
        "\n",
        "def calculate_kl_divergence(image_path):\n",
        "    image = cv2.imread(image_path)\n",
        "    image = cv2.cvtColor(image, cv2.COLOR_BGR2RGB)\n",
        "\n",
        "    # Calculate histograms for red and blue channels\n",
        "    red_hist = cv2.calcHist([image], [0], None, [256], [0, 256]).flatten()\n",
        "    blue_hist = cv2.calcHist([image], [2], None, [256], [0, 256]).flatten()\n",
        "\n",
        "    # Normalize the histograms\n",
        "    red_hist = red_hist / np.sum(red_hist)\n",
        "    blue_hist = blue_hist / np.sum(blue_hist)\n",
        "\n",
        "    # Calculate KL divergence\n",
        "    kl_divergence = entropy(red_hist, blue_hist)\n",
        "    return kl_divergence\n",
        "\n",
        "# Example usage\n",
        "kl_div = calculate_kl_divergence(image_path_data)\n",
        "print(f\"KL Divergence: {kl_div:.4f}\")"
      ],
      "metadata": {
        "colab": {
          "base_uri": "https://localhost:8080/"
        },
        "id": "VfBQn4ZYJLAy",
        "outputId": "854f968d-5bda-4352-b981-3948009d1975"
      },
      "execution_count": null,
      "outputs": [
        {
          "output_type": "stream",
          "name": "stdout",
          "text": [
            "KL Divergence: 2.7911\n"
          ]
        }
      ]
    }
  ]
}