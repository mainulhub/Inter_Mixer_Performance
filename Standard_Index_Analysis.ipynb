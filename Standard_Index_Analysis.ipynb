{
  "nbformat": 4,
  "nbformat_minor": 0,
  "metadata": {
    "colab": {
      "provenance": []
    },
    "kernelspec": {
      "name": "python3",
      "display_name": "Python 3"
    },
    "language_info": {
      "name": "python"
    }
  },
  "cells": [
    {
      "cell_type": "markdown",
      "source": [
        "# **Standard Index Analysis**"
      ],
      "metadata": {
        "id": "x-OwfTjMbAJp"
      }
    },
    {
      "cell_type": "markdown",
      "source": [
        "## In this section, a variety of quantitative indices have been utilized to evaluate how effectively the two colors—red and blue—are mixed within the image. These metrics provide different perspectives on the quality and uniformity of color blending by analyzing structural, statistical, and perceptual characteristics.\n",
        "\n",
        "##The following indices were used:\n",
        "\n",
        "##**Structural Similarity Index (SSIM):** Assesses the perceived visual similarity between the mixed color regions and a reference, taking into account luminance, contrast, and structural information.\n",
        "\n",
        "##**Mutual Information Index:** When red and blue colors are blended in varying intensities across an image, the resulting image contains a mixture of pixel values that depend on the contribution of each color. Mutual Information helps assess how much knowing the intensity value of red tells us about the intensity value of blue, and vice versa.\n",
        "\n",
        "##**Mean Squared Error (MSE):** Quantifies the average squared difference between corresponding pixel values, providing an indication of color distortion or loss.\n",
        "\n",
        "##**Normalized Cross-Correlation (NCC):** Normalized Cross-Correlation (NCC) is a statistical method used to measure the similarity between two signals or patterns. When applied to a single image where two colors (e.g., red and blue) are mixed, NCC helps evaluate how consistently or uniformly these two color components are spatially distributed and aligned.\n",
        "\n",
        "##**Standard Deviation Uniformity:** Examines the uniformity of color distribution by measuring the spread of pixel intensities, where lower variation typically indicates better mixing.\n",
        "\n",
        "##Together, these indices offer a comprehensive analysis of the color mixing process, helping to determine both the effectiveness and consistency of the blending between red and blue tones."
      ],
      "metadata": {
        "id": "8yMB3Lz7bSDV"
      }
    },
    {
      "cell_type": "markdown",
      "source": [
        "##Including the libraries"
      ],
      "metadata": {
        "id": "9hymLx4JfwWW"
      }
    },
    {
      "cell_type": "code",
      "execution_count": null,
      "metadata": {
        "id": "1adftvl1wTsZ"
      },
      "outputs": [],
      "source": [
        "import cv2\n",
        "import numpy as np\n",
        "from skimage.metrics import structural_similarity as ssim\n",
        "from sklearn.metrics import mutual_info_score\n",
        "from sklearn.cluster import KMeans\n",
        "from scipy.stats import entropy"
      ]
    },
    {
      "cell_type": "code",
      "source": [
        "image_path_data = './sample_data/5050_210_SP_001_O.jpg'"
      ],
      "metadata": {
        "id": "by0q7_TXzQ50"
      },
      "execution_count": null,
      "outputs": []
    },
    {
      "cell_type": "markdown",
      "source": [
        "## Structural Similarity Index (SSIM)"
      ],
      "metadata": {
        "id": "S5sYFhq5f6gF"
      }
    },
    {
      "cell_type": "code",
      "source": [
        "################ Structural Similarity #####################\n",
        "# If the SSIM is close to 1, it means the red and blue channels are very similar, indicating good mixing.\n",
        "############### STRUCTURAL SIMILARITY ######################\n",
        "############################################################\n",
        "\n",
        "\n",
        "def calculate_ssim(image_path):\n",
        "    image = cv2.imread(image_path)\n",
        "    image = cv2.cvtColor(image, cv2.COLOR_BGR2RGB)\n",
        "\n",
        "    # Calculate SSIM between red and blue channels\n",
        "    ssim_value = ssim(image[:, :, 0], image[:, :, 2], data_range=255)\n",
        "\n",
        "    return ssim_value\n",
        "\n",
        "# Example usage\n",
        "ssim_value = calculate_ssim(image_path_data)\n",
        "print(f\"SSIM: {ssim_value:.2f}\")"
      ],
      "metadata": {
        "colab": {
          "base_uri": "https://localhost:8080/"
        },
        "id": "vKNJXUkxzRBT",
        "outputId": "b3eef286-1dc6-45cf-95ef-9037ab555f1c"
      },
      "execution_count": null,
      "outputs": [
        {
          "output_type": "stream",
          "name": "stdout",
          "text": [
            "SSIM: 0.47\n"
          ]
        }
      ]
    },
    {
      "cell_type": "markdown",
      "source": [
        "## Mutual Information Index"
      ],
      "metadata": {
        "id": "rsHtLL-UgEQz"
      }
    },
    {
      "cell_type": "code",
      "source": [
        "############# MUTUAL INFORMATION INDEX  #############\n",
        "# If the mutual information is high, it means the red and blue channels are strongly dependent, indicating good mixing.\n",
        "#####################################################\n",
        "\n",
        "\n",
        "def calculate_mutual_information(image_path):\n",
        "    image = cv2.imread(image_path)\n",
        "    image = cv2.cvtColor(image, cv2.COLOR_BGR2RGB)\n",
        "\n",
        "    # Flatten the red and blue channels\n",
        "    red_channel = image[:, :, 0].flatten()\n",
        "    blue_channel = image[:, :, 2].flatten()\n",
        "\n",
        "    # Calculate mutual information\n",
        "    mi = mutual_info_score(red_channel, blue_channel)\n",
        "    return mi\n",
        "\n",
        "# Example usage\n",
        "mi = calculate_mutual_information(image_path_data)\n",
        "print(f\"Mutual Information: {mi:.2f}\")"
      ],
      "metadata": {
        "colab": {
          "base_uri": "https://localhost:8080/"
        },
        "id": "k41NxFnMzjxl",
        "outputId": "bce2522d-22d6-4635-f193-9a9cf8f84ef9"
      },
      "execution_count": null,
      "outputs": [
        {
          "output_type": "stream",
          "name": "stdout",
          "text": [
            "Mutual Information: 0.47\n"
          ]
        }
      ]
    },
    {
      "cell_type": "markdown",
      "source": [
        "##Mean Squared Error (MSE)"
      ],
      "metadata": {
        "id": "9-5l9j45gNpe"
      }
    },
    {
      "cell_type": "code",
      "source": [
        "#############  MEAN SQUARE ERROR #################\n",
        "##################################################\n",
        "\n",
        "def calculate_mse(image_path):\n",
        "    image = cv2.imread(image_path)\n",
        "    image = cv2.cvtColor(image, cv2.COLOR_BGR2RGB)\n",
        "\n",
        "    # Calculate MSE between red and blue channels\n",
        "    mse = np.mean((image[:, :, 0] - image[:, :, 2]) ** 2)\n",
        "    return mse\n",
        "\n",
        "# Example usage\n",
        "mse = calculate_mse(image_path_data)\n",
        "print(f\"Mean Squared Error: {mse:.2f}\")"
      ],
      "metadata": {
        "colab": {
          "base_uri": "https://localhost:8080/"
        },
        "id": "oLfUNnjYzpjl",
        "outputId": "44811a04-0453-414f-9cd8-240190dbc614"
      },
      "execution_count": null,
      "outputs": [
        {
          "output_type": "stream",
          "name": "stdout",
          "text": [
            "Mean Squared Error: 78.32\n"
          ]
        }
      ]
    },
    {
      "cell_type": "markdown",
      "source": [
        "## Normalized Cross-Correlation (NCC)"
      ],
      "metadata": {
        "id": "paYawK5xgbRr"
      }
    },
    {
      "cell_type": "code",
      "source": [
        "# If the NCC is close to 1, it means the red and blue channels are very similar, indicating good mixing.\n",
        "################################################################################################################\n",
        "\n",
        "def calculate_ncc(image_path):\n",
        "    image = cv2.imread(image_path)\n",
        "    image = cv2.cvtColor(image, cv2.COLOR_BGR2RGB)\n",
        "\n",
        "    # Normalize the red and blue channels\n",
        "    red_channel = image[:, :, 0].astype(np.float32)\n",
        "    blue_channel = image[:, :, 2].astype(np.float32)\n",
        "    red_channel = (red_channel - np.mean(red_channel)) / np.std(red_channel)\n",
        "    blue_channel = (blue_channel - np.mean(blue_channel)) / np.std(blue_channel)\n",
        "\n",
        "    # Calculate NCC\n",
        "    ncc = np.sum(red_channel * blue_channel) / (red_channel.size)\n",
        "    return ncc\n",
        "\n",
        "# Example usage\n",
        "ncc = calculate_ncc(image_path_data)\n",
        "print(f\"Normalized Cross-Correlation: {ncc:.2f}\")"
      ],
      "metadata": {
        "colab": {
          "base_uri": "https://localhost:8080/"
        },
        "id": "j7Rn-PYSzrAX",
        "outputId": "98af8d7f-3e1f-4e4e-b26e-08fa69555445"
      },
      "execution_count": null,
      "outputs": [
        {
          "output_type": "stream",
          "name": "stdout",
          "text": [
            "Normalized Cross-Correlation: 0.19\n"
          ]
        }
      ]
    },
    {
      "cell_type": "markdown",
      "source": [
        "## Standard Deviation Uniformity"
      ],
      "metadata": {
        "id": "R3BQeIuAglwU"
      }
    },
    {
      "cell_type": "code",
      "source": [
        "\n",
        "def calculate_uniformity(image_path):\n",
        "    # Load the image\n",
        "    image = cv2.imread(image_path)\n",
        "    image = cv2.cvtColor(image, cv2.COLOR_BGR2RGB)\n",
        "\n",
        "    # Split the image into red and blue channels\n",
        "    red_channel = image[:, :, 0]\n",
        "    blue_channel = image[:, :, 2]\n",
        "\n",
        "    # Calculate standard deviation of the red and blue channels\n",
        "    red_std = np.std(red_channel)\n",
        "    blue_std = np.std(blue_channel)\n",
        "\n",
        "    # Average the metrics for overall uniformity\n",
        "    uniformity = (red_std + blue_std) / 2\n",
        "    return uniformity\n"
      ],
      "metadata": {
        "id": "P0M9glguz1T6"
      },
      "execution_count": null,
      "outputs": []
    },
    {
      "cell_type": "code",
      "source": [
        "# Example usage\n",
        "image_paths =image_path_data  # Replace with your image paths\n",
        "ranked_mixers = calculate_uniformity(image_paths)\n",
        "print(f\"  Standard Deviation Uniformity: {ranked_mixers:.2f}\")"
      ],
      "metadata": {
        "colab": {
          "base_uri": "https://localhost:8080/"
        },
        "id": "e3AZ_LuY0Zi_",
        "outputId": "19ab11ba-2126-42d5-a0ec-1acfea5ca5e5"
      },
      "execution_count": null,
      "outputs": [
        {
          "output_type": "stream",
          "name": "stdout",
          "text": [
            "  Standard Deviation Uniformity: 17.16\n"
          ]
        }
      ]
    }
  ]
}