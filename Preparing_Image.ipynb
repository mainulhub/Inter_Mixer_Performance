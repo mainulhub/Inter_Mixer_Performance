{
  "nbformat": 4,
  "nbformat_minor": 0,
  "metadata": {
    "colab": {
      "provenance": []
    },
    "kernelspec": {
      "name": "python3",
      "display_name": "Python 3"
    },
    "language_info": {
      "name": "python"
    }
  },
  "cells": [
    {
      "cell_type": "markdown",
      "source": [
        "#**Preparing Image for Analysis**"
      ],
      "metadata": {
        "id": "VeNbB5MGwIyZ"
      }
    },
    {
      "cell_type": "markdown",
      "source": [
        "##During the experiment, an unavoidable presence of additional yellow lighting was introduced, which altered the true color appearance of the specimen in the captured images. This unintended lighting effect caused a color distortion that could compromise the accuracy of subsequent analysis. To accurately reveal the specimen's original color characteristics, it is essential to eliminate the influence of this yellow light. In this section, we applied a series of image processing techniques aimed at correcting the color distortion. These methods were specifically chosen to isolate and remove the yellow light component, thereby restoring the specimen’s true color profile for more reliable visual and quantitative assessments."
      ],
      "metadata": {
        "id": "hYcafsW6wS-i"
      }
    },
    {
      "cell_type": "markdown",
      "source": [
        "## Instaled Necessary Library"
      ],
      "metadata": {
        "id": "QwNtbHd6KITn"
      }
    },
    {
      "cell_type": "code",
      "execution_count": null,
      "metadata": {
        "colab": {
          "base_uri": "https://localhost:8080/"
        },
        "id": "bbPkb7qhuBVG",
        "outputId": "3aecbd78-d7a7-4163-aeb6-9c9a08c0cb8c"
      },
      "outputs": [
        {
          "output_type": "stream",
          "name": "stdout",
          "text": [
            "Collecting onnxruntime\n",
            "  Downloading onnxruntime-1.20.1-cp310-cp310-manylinux_2_27_x86_64.manylinux_2_28_x86_64.whl.metadata (4.5 kB)\n",
            "Collecting coloredlogs (from onnxruntime)\n",
            "  Downloading coloredlogs-15.0.1-py2.py3-none-any.whl.metadata (12 kB)\n",
            "Requirement already satisfied: flatbuffers in /usr/local/lib/python3.10/dist-packages (from onnxruntime) (24.3.25)\n",
            "Requirement already satisfied: numpy>=1.21.6 in /usr/local/lib/python3.10/dist-packages (from onnxruntime) (1.26.4)\n",
            "Requirement already satisfied: packaging in /usr/local/lib/python3.10/dist-packages (from onnxruntime) (24.2)\n",
            "Requirement already satisfied: protobuf in /usr/local/lib/python3.10/dist-packages (from onnxruntime) (4.25.5)\n",
            "Requirement already satisfied: sympy in /usr/local/lib/python3.10/dist-packages (from onnxruntime) (1.13.1)\n",
            "Collecting humanfriendly>=9.1 (from coloredlogs->onnxruntime)\n",
            "  Downloading humanfriendly-10.0-py2.py3-none-any.whl.metadata (9.2 kB)\n",
            "Requirement already satisfied: mpmath<1.4,>=1.1.0 in /usr/local/lib/python3.10/dist-packages (from sympy->onnxruntime) (1.3.0)\n",
            "Downloading onnxruntime-1.20.1-cp310-cp310-manylinux_2_27_x86_64.manylinux_2_28_x86_64.whl (13.3 MB)\n",
            "\u001b[2K   \u001b[90m━━━━━━━━━━━━━━━━━━━━━━━━━━━━━━━━━━━━━━━━\u001b[0m \u001b[32m13.3/13.3 MB\u001b[0m \u001b[31m79.3 MB/s\u001b[0m eta \u001b[36m0:00:00\u001b[0m\n",
            "\u001b[?25hDownloading coloredlogs-15.0.1-py2.py3-none-any.whl (46 kB)\n",
            "\u001b[2K   \u001b[90m━━━━━━━━━━━━━━━━━━━━━━━━━━━━━━━━━━━━━━━━\u001b[0m \u001b[32m46.0/46.0 kB\u001b[0m \u001b[31m3.2 MB/s\u001b[0m eta \u001b[36m0:00:00\u001b[0m\n",
            "\u001b[?25hDownloading humanfriendly-10.0-py2.py3-none-any.whl (86 kB)\n",
            "\u001b[2K   \u001b[90m━━━━━━━━━━━━━━━━━━━━━━━━━━━━━━━━━━━━━━━━\u001b[0m \u001b[32m86.8/86.8 kB\u001b[0m \u001b[31m6.4 MB/s\u001b[0m eta \u001b[36m0:00:00\u001b[0m\n",
            "\u001b[?25hInstalling collected packages: humanfriendly, coloredlogs, onnxruntime\n",
            "Successfully installed coloredlogs-15.0.1 humanfriendly-10.0 onnxruntime-1.20.1\n"
          ]
        }
      ],
      "source": [
        "!pip install onnxruntime"
      ]
    },
    {
      "cell_type": "code",
      "source": [
        "!pip install rembg"
      ],
      "metadata": {
        "colab": {
          "base_uri": "https://localhost:8080/"
        },
        "id": "ZeY68x4quNzb",
        "outputId": "e92e71fb-037c-4f75-a93d-b00f2bf6568c"
      },
      "execution_count": null,
      "outputs": [
        {
          "output_type": "stream",
          "name": "stdout",
          "text": [
            "Collecting rembg\n",
            "  Downloading rembg-2.0.60-py3-none-any.whl.metadata (18 kB)\n",
            "Requirement already satisfied: jsonschema in /usr/local/lib/python3.10/dist-packages (from rembg) (4.23.0)\n",
            "Requirement already satisfied: numpy in /usr/local/lib/python3.10/dist-packages (from rembg) (1.26.4)\n",
            "Requirement already satisfied: opencv-python-headless in /usr/local/lib/python3.10/dist-packages (from rembg) (4.10.0.84)\n",
            "Requirement already satisfied: pillow in /usr/local/lib/python3.10/dist-packages (from rembg) (11.0.0)\n",
            "Requirement already satisfied: pooch in /usr/local/lib/python3.10/dist-packages (from rembg) (1.8.2)\n",
            "Collecting pymatting (from rembg)\n",
            "  Downloading PyMatting-1.1.13-py3-none-any.whl.metadata (7.5 kB)\n",
            "Requirement already satisfied: scikit-image in /usr/local/lib/python3.10/dist-packages (from rembg) (0.24.0)\n",
            "Requirement already satisfied: scipy in /usr/local/lib/python3.10/dist-packages (from rembg) (1.13.1)\n",
            "Requirement already satisfied: tqdm in /usr/local/lib/python3.10/dist-packages (from rembg) (4.66.6)\n",
            "Requirement already satisfied: attrs>=22.2.0 in /usr/local/lib/python3.10/dist-packages (from jsonschema->rembg) (24.2.0)\n",
            "Requirement already satisfied: jsonschema-specifications>=2023.03.6 in /usr/local/lib/python3.10/dist-packages (from jsonschema->rembg) (2024.10.1)\n",
            "Requirement already satisfied: referencing>=0.28.4 in /usr/local/lib/python3.10/dist-packages (from jsonschema->rembg) (0.35.1)\n",
            "Requirement already satisfied: rpds-py>=0.7.1 in /usr/local/lib/python3.10/dist-packages (from jsonschema->rembg) (0.22.3)\n",
            "Requirement already satisfied: platformdirs>=2.5.0 in /usr/local/lib/python3.10/dist-packages (from pooch->rembg) (4.3.6)\n",
            "Requirement already satisfied: packaging>=20.0 in /usr/local/lib/python3.10/dist-packages (from pooch->rembg) (24.2)\n",
            "Requirement already satisfied: requests>=2.19.0 in /usr/local/lib/python3.10/dist-packages (from pooch->rembg) (2.32.3)\n",
            "Requirement already satisfied: numba!=0.49.0 in /usr/local/lib/python3.10/dist-packages (from pymatting->rembg) (0.60.0)\n",
            "Requirement already satisfied: networkx>=2.8 in /usr/local/lib/python3.10/dist-packages (from scikit-image->rembg) (3.4.2)\n",
            "Requirement already satisfied: imageio>=2.33 in /usr/local/lib/python3.10/dist-packages (from scikit-image->rembg) (2.36.1)\n",
            "Requirement already satisfied: tifffile>=2022.8.12 in /usr/local/lib/python3.10/dist-packages (from scikit-image->rembg) (2024.12.12)\n",
            "Requirement already satisfied: lazy-loader>=0.4 in /usr/local/lib/python3.10/dist-packages (from scikit-image->rembg) (0.4)\n",
            "Requirement already satisfied: llvmlite<0.44,>=0.43.0dev0 in /usr/local/lib/python3.10/dist-packages (from numba!=0.49.0->pymatting->rembg) (0.43.0)\n",
            "Requirement already satisfied: charset-normalizer<4,>=2 in /usr/local/lib/python3.10/dist-packages (from requests>=2.19.0->pooch->rembg) (3.4.0)\n",
            "Requirement already satisfied: idna<4,>=2.5 in /usr/local/lib/python3.10/dist-packages (from requests>=2.19.0->pooch->rembg) (3.10)\n",
            "Requirement already satisfied: urllib3<3,>=1.21.1 in /usr/local/lib/python3.10/dist-packages (from requests>=2.19.0->pooch->rembg) (2.2.3)\n",
            "Requirement already satisfied: certifi>=2017.4.17 in /usr/local/lib/python3.10/dist-packages (from requests>=2.19.0->pooch->rembg) (2024.8.30)\n",
            "Downloading rembg-2.0.60-py3-none-any.whl (39 kB)\n",
            "Downloading PyMatting-1.1.13-py3-none-any.whl (54 kB)\n",
            "\u001b[2K   \u001b[90m━━━━━━━━━━━━━━━━━━━━━━━━━━━━━━━━━━━━━━━━\u001b[0m \u001b[32m54.5/54.5 kB\u001b[0m \u001b[31m2.7 MB/s\u001b[0m eta \u001b[36m0:00:00\u001b[0m\n",
            "\u001b[?25hInstalling collected packages: pymatting, rembg\n",
            "Successfully installed pymatting-1.1.13 rembg-2.0.60\n"
          ]
        }
      ]
    },
    {
      "cell_type": "markdown",
      "source": [
        "## Include Necessary Library"
      ],
      "metadata": {
        "id": "dGirOWHJKTve"
      }
    },
    {
      "cell_type": "code",
      "source": [
        "from rembg import remove\n",
        "from PIL import Image\n",
        "import io\n",
        "\n",
        "from PIL import Image\n",
        "import numpy as np\n",
        "import cv2\n",
        "import matplotlib.pyplot as plt\n",
        "from sklearn.cluster import KMeans\n",
        "\n",
        "from sklearn.metrics import silhouette_score\n",
        "import seaborn as sns"
      ],
      "metadata": {
        "id": "gMfpG0KxuQAL"
      },
      "execution_count": null,
      "outputs": []
    },
    {
      "cell_type": "markdown",
      "source": [
        "## Removing the background of the Image"
      ],
      "metadata": {
        "id": "HTYwOy_MLMre"
      }
    },
    {
      "cell_type": "code",
      "source": [
        "#####  Remove Yellow Background  ######\n",
        "\n",
        "# Load the image\n",
        "with open('./sample_data/5050_210_SP_027.jpg', 'rb') as file:\n",
        "    input_image = file.read()\n",
        "\n",
        "# Remove the background\n",
        "output_image = remove(input_image)\n",
        "\n",
        "# Save or display the result\n",
        "with open('./sample_data/cap_img_01.jpg', 'wb') as file:\n",
        "    file.write(output_image)\n",
        "\n",
        "# Display the result in Colab\n",
        "from PIL import Image\n",
        "output_image = Image.open(io.BytesIO(output_image))\n",
        "output_image.show()"
      ],
      "metadata": {
        "id": "7ZNMxDVLuT8G"
      },
      "execution_count": null,
      "outputs": []
    },
    {
      "cell_type": "markdown",
      "source": [
        "## Removing the yellow light from object"
      ],
      "metadata": {
        "id": "yt16igPFL652"
      }
    },
    {
      "cell_type": "code",
      "source": [
        "################# Subtracting Yellow Colors #########\n",
        "#####################################################\n",
        "\n",
        "################# Subtracting Yellow Colors #########\n",
        "#####################################################\n",
        "\n",
        "# Load the image\n",
        "image_path = './sample_data/cap_img_01.jpg'\n",
        "image = Image.open(image_path)\n",
        "\n",
        "# Convert image to numpy array\n",
        "image_np = np.array(image)\n",
        "\n",
        "# Remove the alpha channel if present\n",
        "if image_np.shape[-1] == 4:\n",
        "    image_rgb = image_np[:, :, :3]\n",
        "else:\n",
        "    image_rgb = image_np\n",
        "\n",
        "\n",
        "# Function to subtract the yellow color from the object\n",
        "def subtract_yellow(image_rgb):\n",
        "    image_no_yellow_object = image_rgb.copy()\n",
        "    yellow_intensity = np.minimum(image_rgb[:, :, 0], image_rgb[:, :, 1])\n",
        "    image_no_yellow_object[:, :, 0] -= yellow_intensity\n",
        "    image_no_yellow_object[:, :, 1] -= yellow_intensity\n",
        "    image_no_yellow_object[:, :, 0] = np.clip(image_no_yellow_object[:, :, 0] * 1.5, 0, 255).astype(np.uint8)\n",
        "    image_no_yellow_object = np.clip(image_no_yellow_object, 0, 255)\n",
        "    return image_no_yellow_object\n",
        "\n",
        "\n",
        "#########################\n",
        "image_subtracted = subtract_yellow(image_rgb)\n",
        "\n",
        "# Convert back to BGR for saving\n",
        "image_subtracted_bgr = cv2.cvtColor(image_subtracted.astype(np.uint8), cv2.COLOR_RGB2BGR)\n",
        "\n",
        "# Step 3: Save the output image\n",
        "output_path = './sample_data/cap_img_02.jpg'  # Replace with your desired output path\n",
        "cv2.imwrite(output_path, image_subtracted_bgr)\n",
        "print(f\"Output image saved at: {output_path}\")\n"
      ],
      "metadata": {
        "colab": {
          "base_uri": "https://localhost:8080/"
        },
        "id": "CRywxsphuvR7",
        "outputId": "f4b7dd6e-1d1f-4a76-8594-9059f4db4d90"
      },
      "execution_count": null,
      "outputs": [
        {
          "output_type": "stream",
          "name": "stdout",
          "text": [
            "Output image saved at: ./sample_data/cap_img_02.jpg\n"
          ]
        }
      ]
    },
    {
      "cell_type": "markdown",
      "source": [
        "## Removing the black background of Image to focus on the object"
      ],
      "metadata": {
        "id": "w1SaS6z9MA6Z"
      }
    },
    {
      "cell_type": "code",
      "source": [
        "#####  Remove Black Background  ######\n",
        "\n",
        "# Load the image\n",
        "with open('./sample_data/cap_img_02.jpg', 'rb') as file:\n",
        "    input_image = file.read()\n",
        "\n",
        "# Remove the background\n",
        "output_image = remove(input_image)\n",
        "\n",
        "# Save or display the result\n",
        "with open('./sample_data/cap_img_03.jpg', 'wb') as file:\n",
        "    file.write(output_image)\n",
        "\n",
        "# Display the result in Colab\n",
        "from PIL import Image\n",
        "output_image = Image.open(io.BytesIO(output_image))\n",
        "output_image.show()"
      ],
      "metadata": {
        "id": "BtXLH084u0HS"
      },
      "execution_count": null,
      "outputs": []
    }
  ]
}